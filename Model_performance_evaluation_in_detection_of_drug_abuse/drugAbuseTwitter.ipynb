{
  "nbformat": 4,
  "nbformat_minor": 0,
  "metadata": {
    "colab": {
      "name": "drugAbuseTwitter.ipynb",
      "provenance": []
    },
    "kernelspec": {
      "name": "python3",
      "display_name": "Python 3"
    }
  },
  "cells": [
    {
      "cell_type": "markdown",
      "metadata": {
        "id": "K2iW0KK5s5R5",
        "colab_type": "text"
      },
      "source": [
        "\n",
        "\n",
        "```\n",
        "Code for saving time\n",
        "```\n",
        "\n"
      ]
    },
    {
      "cell_type": "code",
      "metadata": {
        "id": "iDyQxL3asv-s",
        "colab_type": "code",
        "outputId": "6cb05739-f9e1-4637-e577-777fcab68e20",
        "colab": {
          "base_uri": "https://localhost:8080/",
          "height": 190
        }
      },
      "source": [
        "!pip install python-twitter\n",
        "import twitter\n",
        "import json"
      ],
      "execution_count": 0,
      "outputs": [
        {
          "output_type": "stream",
          "text": [
            "Requirement already satisfied: python-twitter in /usr/local/lib/python3.6/dist-packages (3.5)\n",
            "Requirement already satisfied: requests-oauthlib in /usr/local/lib/python3.6/dist-packages (from python-twitter) (1.2.0)\n",
            "Requirement already satisfied: future in /usr/local/lib/python3.6/dist-packages (from python-twitter) (0.16.0)\n",
            "Requirement already satisfied: requests in /usr/local/lib/python3.6/dist-packages (from python-twitter) (2.21.0)\n",
            "Requirement already satisfied: oauthlib>=3.0.0 in /usr/local/lib/python3.6/dist-packages (from requests-oauthlib->python-twitter) (3.0.2)\n",
            "Requirement already satisfied: certifi>=2017.4.17 in /usr/local/lib/python3.6/dist-packages (from requests->python-twitter) (2019.6.16)\n",
            "Requirement already satisfied: idna<2.9,>=2.5 in /usr/local/lib/python3.6/dist-packages (from requests->python-twitter) (2.8)\n",
            "Requirement already satisfied: urllib3<1.25,>=1.21.1 in /usr/local/lib/python3.6/dist-packages (from requests->python-twitter) (1.24.3)\n",
            "Requirement already satisfied: chardet<3.1.0,>=3.0.2 in /usr/local/lib/python3.6/dist-packages (from requests->python-twitter) (3.0.4)\n"
          ],
          "name": "stdout"
        }
      ]
    },
    {
      "cell_type": "markdown",
      "metadata": {
        "id": "krJ5BSsMtGb2",
        "colab_type": "text"
      },
      "source": [
        "Upload required Files"
      ]
    },
    {
      "cell_type": "code",
      "metadata": {
        "id": "R9jQnxxItYPF",
        "colab_type": "code",
        "colab": {}
      },
      "source": [
        "from google.colab import files\n",
        "src = list(files.upload().values())[0]\n",
        "open('mylib.py','wb').write(src)\n",
        "import mylib\n",
        "\n",
        "uploaded = files.upload()\n",
        "for fn in uploaded.keys():\n",
        "  print('User uploaded file \"{name}\" with length {length} bytes'.format(\n",
        "  name = fn, length = len(uploaded[fn])))"
      ],
      "execution_count": 0,
      "outputs": []
    },
    {
      "cell_type": "markdown",
      "metadata": {
        "id": "FnbYx-ultdOp",
        "colab_type": "text"
      },
      "source": [
        "Get Tweets and Save those as json format"
      ]
    },
    {
      "cell_type": "code",
      "metadata": {
        "id": "FdB9cqFbtcrs",
        "colab_type": "code",
        "colab": {}
      },
      "source": [
        "import keys\n",
        "api = twitter.Api(consumer_key = keys.consumer_key,\n",
        "                 consumer_secret = keys.consumer_secret,\n",
        "                 access_token_key = keys.access_token,\n",
        "                 access_token_secret = keys.access_token_secret)\n",
        "\n",
        "import pandas as pd\n",
        "\n",
        "drugTweets = pd.read_csv('drug_safety_data.txt', delimiter = '\\t', header = None, names = ['tweet_id', 'twitter_user_id', 'abuse'])\n",
        "drugTweets = drugTweets.drop_duplicates()\n",
        "drugTweets_text = api.GetStatuses(drugTweets.tweet_id)\n",
        "\n"
      ],
      "execution_count": 0,
      "outputs": []
    },
    {
      "cell_type": "markdown",
      "metadata": {
        "id": "4sxaesoRwDGN",
        "colab_type": "text"
      },
      "source": [
        "Combine Tweet infos(id, text, time) and abuse column"
      ]
    },
    {
      "cell_type": "code",
      "metadata": {
        "id": "KdlwgywPvlxx",
        "colab_type": "code",
        "colab": {}
      },
      "source": [
        "ids = []\n",
        "text = []\n",
        "time = []\n",
        "for line in txts:\n",
        "  ids.append(line['id'])\n",
        "  text.append(line['text'])\n",
        "  time.append(line['created_at'].split(' ')[3].split(':')[0])\n",
        "  \n",
        "\n",
        "raw_texts = pd.DataFrame(list(zip(ids, text, time)), columns = ['tweet_id', 'text_text', 'tweet_hour'])\n",
        "raw_drugTweets_comb = pd.merge(raw_texts, drugTweets, on = 'tweet_id', how = 'inner')\n",
        "abused_text= raw_drugTweets_comb[raw_drugTweets_comb.abuse == 1]\n",
        "non_abused_text= raw_drugTweets_comb[raw_drugTweets_comb.abuse == 0]"
      ],
      "execution_count": 0,
      "outputs": []
    },
    {
      "cell_type": "code",
      "metadata": {
        "id": "vpR5ewcLwWNL",
        "colab_type": "code",
        "colab": {}
      },
      "source": [
        "abuse_time = abused_text.tweet_hour\n",
        "\n",
        "print(abuse_time.value_counts())"
      ],
      "execution_count": 0,
      "outputs": []
    },
    {
      "cell_type": "code",
      "metadata": {
        "id": "Bq1Sb4Hfw44g",
        "colab_type": "code",
        "colab": {}
      },
      "source": [
        "non_abuse_time = non_abused_text.tweet_hour\n",
        "print(non_abuse_time.value_counts())"
      ],
      "execution_count": 0,
      "outputs": []
    },
    {
      "cell_type": "code",
      "metadata": {
        "id": "NKIJDMcDxVvA",
        "colab_type": "code",
        "outputId": "24bcef52-dc51-4df7-fbf7-ef2027f6c470",
        "colab": {
          "base_uri": "https://localhost:8080/",
          "height": 105
        }
      },
      "source": [
        "!pip install nltk\n",
        "import nltk\n",
        "import re\n",
        "\n",
        "nltk.download('stopwords')\n",
        "from nltk.tokenize import RegexpTokenizer\n",
        "from nltk.corpus import stopwords"
      ],
      "execution_count": 0,
      "outputs": [
        {
          "output_type": "stream",
          "text": [
            "Requirement already satisfied: nltk in /usr/local/lib/python3.6/dist-packages (3.2.5)\n",
            "Requirement already satisfied: six in /usr/local/lib/python3.6/dist-packages (from nltk) (1.12.0)\n",
            "[nltk_data] Downloading package stopwords to /root/nltk_data...\n",
            "[nltk_data]   Unzipping corpora/stopwords.zip.\n"
          ],
          "name": "stdout"
        }
      ]
    }
  ]
}