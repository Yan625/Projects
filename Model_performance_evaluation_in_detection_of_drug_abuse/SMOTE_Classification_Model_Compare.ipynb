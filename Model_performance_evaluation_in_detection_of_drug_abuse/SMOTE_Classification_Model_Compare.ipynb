{
  "nbformat": 4,
  "nbformat_minor": 0,
  "metadata": {
    "colab": {
      "name": "SMOTE_Classification_Model_Compare.ipynb",
      "provenance": [],
      "toc_visible": true
    },
    "kernelspec": {
      "name": "python3",
      "display_name": "Python 3"
    }
  },
  "cells": [
    {
      "cell_type": "markdown",
      "metadata": {
        "id": "2ZDSEmIFGX4q",
        "colab_type": "text"
      },
      "source": [
        "**Model Develop & Compare**"
      ]
    },
    {
      "cell_type": "markdown",
      "metadata": {
        "id": "4HgDG9_2HlXx",
        "colab_type": "text"
      },
      "source": [
        "#### 1.import classifiers"
      ]
    },
    {
      "cell_type": "code",
      "metadata": {
        "id": "_qcSLT0BGVL-",
        "colab_type": "code",
        "colab": {}
      },
      "source": [
        "from sklearn.metrics import confusion_matrix\n",
        "from sklearn import metrics\n",
        "\n",
        "from sklearn.neighbors import KNeighborsClassifier\n",
        "from sklearn.svm import SVC  \n",
        "from sklearn.naive_bayes import GaussianNB\n",
        "from sklearn.tree import DecisionTreeClassifier\n",
        "from sklearn.model_selection import train_test_split\n",
        "import pandas as pd"
      ],
      "execution_count": 0,
      "outputs": []
    },
    {
      "cell_type": "markdown",
      "metadata": {
        "id": "HSruCEdsIOx1",
        "colab_type": "text"
      },
      "source": [
        "####2. Load DTM File and split as train & test"
      ]
    },
    {
      "cell_type": "code",
      "metadata": {
        "id": "hiZGVL-FHpoX",
        "colab_type": "code",
        "outputId": "f19108b5-28f2-48ee-9d28-d6962f8094d5",
        "colab": {
          "resources": {
            "http://localhost:8080/nbextensions/google.colab/files.js": {
              "data": "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",
              "ok": true,
              "headers": [
                [
                  "content-type",
                  "application/javascript"
                ]
              ],
              "status": 200,
              "status_text": ""
            }
          },
          "base_uri": "https://localhost:8080/",
          "height": 88
        }
      },
      "source": [
        "\n",
        "from google.colab import files\n",
        "\n",
        "uploaded = files.upload()\n",
        "\n",
        "for fn in uploaded.keys():\n",
        "  print('User uploaded file \"{name}\" with length {length} bytes'.format(\n",
        "      name=fn, length=len(uploaded[fn])))\n",
        "\n",
        "drugAbuse_DTM = pd.read_csv('abuse_tfidf_df_30.txt', delimiter = '\\t')\n",
        "\n",
        "X = drugAbuse_DTM.drop('abused', axis = 1)\n",
        "y = drugAbuse_DTM.abused\n",
        "\n",
        "\n",
        "X_train, X_test, y_train, y_test = train_test_split(X, y, test_size = 0.20, random_state = 123)"
      ],
      "execution_count": 0,
      "outputs": [
        {
          "output_type": "display_data",
          "data": {
            "text/html": [
              "\n",
              "     <input type=\"file\" id=\"files-e7bdb1bc-e787-4c21-aab2-5a1e0088a444\" name=\"files[]\" multiple disabled />\n",
              "     <output id=\"result-e7bdb1bc-e787-4c21-aab2-5a1e0088a444\">\n",
              "      Upload widget is only available when the cell has been executed in the\n",
              "      current browser session. Please rerun this cell to enable.\n",
              "      </output>\n",
              "      <script src=\"/nbextensions/google.colab/files.js\"></script> "
            ],
            "text/plain": [
              "<IPython.core.display.HTML object>"
            ]
          },
          "metadata": {
            "tags": []
          }
        },
        {
          "output_type": "stream",
          "text": [
            "Saving abuse_tfidf_df_30.txt to abuse_tfidf_df_30 (1).txt\n",
            "User uploaded file \"abuse_tfidf_df_30.txt\" with length 1844090 bytes\n"
          ],
          "name": "stdout"
        }
      ]
    },
    {
      "cell_type": "code",
      "metadata": {
        "id": "STBptwq_XsWj",
        "colab_type": "code",
        "colab": {}
      },
      "source": [
        "from sklearn.utils import resample"
      ],
      "execution_count": 0,
      "outputs": []
    },
    {
      "cell_type": "code",
      "metadata": {
        "id": "l_Xyaih9X5Km",
        "colab_type": "code",
        "outputId": "592857da-b365-4dcc-8cb1-452c0d7e7577",
        "colab": {
          "base_uri": "https://localhost:8080/",
          "height": 68
        }
      },
      "source": [
        "drugAbuse_DTM.abused.value_counts()"
      ],
      "execution_count": 0,
      "outputs": [
        {
          "output_type": "execute_result",
          "data": {
            "text/plain": [
              "0    2570\n",
              "1     447\n",
              "Name: abused, dtype: int64"
            ]
          },
          "metadata": {
            "tags": []
          },
          "execution_count": 3
        }
      ]
    },
    {
      "cell_type": "code",
      "metadata": {
        "id": "xBhM_a4aX_Wt",
        "colab_type": "code",
        "colab": {}
      },
      "source": [
        "\n",
        "df_abused = drugAbuse_DTM[drugAbuse_DTM.abused == 1]\n",
        "df_nonabused = drugAbuse_DTM[drugAbuse_DTM.abused == 0]\n",
        "\"\"\"\n",
        "df_abuse_upsampled = resample(df_abused, \n",
        "                                 replace=True,     \n",
        "                                 n_samples=2570,    \n",
        "                                 random_state=123)\n",
        "                                 \"\"\""
      ],
      "execution_count": 0,
      "outputs": []
    },
    {
      "cell_type": "code",
      "metadata": {
        "id": "lpbRrapkDwhk",
        "colab_type": "code",
        "colab": {}
      },
      "source": [
        "from imblearn.over_sampling import SMOTE\n",
        "X_train_SMOTE, y_train_SMOTE = SMOTE().fit_resample(X_train, y_train)"
      ],
      "execution_count": 0,
      "outputs": []
    },
    {
      "cell_type": "code",
      "metadata": {
        "id": "_fVW4TCDECbO",
        "colab_type": "code",
        "outputId": "94fd7122-ab79-411b-d6c7-56fd1da64c67",
        "colab": {
          "base_uri": "https://localhost:8080/",
          "height": 34
        }
      },
      "source": [
        "from collections import Counter\n",
        "print(sorted(Counter(y_train_SMOTE).items()))"
      ],
      "execution_count": 0,
      "outputs": [
        {
          "output_type": "stream",
          "text": [
            "[(0, 2064), (1, 2064)]\n"
          ],
          "name": "stdout"
        }
      ]
    },
    {
      "cell_type": "markdown",
      "metadata": {
        "id": "TACqgO5KVHjJ",
        "colab_type": "text"
      },
      "source": [
        "####3. Predict & Create report of Every Model\n"
      ]
    },
    {
      "cell_type": "code",
      "metadata": {
        "id": "m8EdbLJJKGzj",
        "colab_type": "code",
        "colab": {}
      },
      "source": [
        "def compare_models(classifiers, X, y):\n",
        "\n",
        "  reports = []\n",
        "  accuracies = []\n",
        "  recalls = []\n",
        "  matrix = []\n",
        "  \n",
        "  for _classi in classifiers:\n",
        "    _predicted = _classi.predict(X = X)\n",
        "    _report = metrics.classification_report(y, _predicted)\n",
        "    _accuracy = metrics.accuracy_score(y, _predicted)\n",
        "    _recall = metrics.recall_score(y, _predicted)\n",
        "    _matrix = metrics.confusion_matrix(y, _predicted)\n",
        "    \n",
        "    reports.append(_report)\n",
        "    accuracies.append(_accuracy)\n",
        "    recalls.append(_recall)\n",
        "    matrix.append(_matrix)\n",
        "  \n",
        "  return (reports, accuracies, recalls, matrix)"
      ],
      "execution_count": 0,
      "outputs": []
    },
    {
      "cell_type": "code",
      "metadata": {
        "id": "gHymjemcJizx",
        "colab_type": "code",
        "colab": {}
      },
      "source": [
        "from sklearn.model_selection import cross_val_score\n",
        "\n",
        "knn = KNeighborsClassifier()\n",
        "svm = SVC(kernel = 'linear', random_state = 123)\n",
        "svm_rbf = SVC(kernel = 'rbf', random_state = 123, gamma = 'scale')\n",
        "svm_rbf_2 = SVC(kernel = 'rbf', random_state = 123, gamma = 2)\n",
        "dt = DecisionTreeClassifier(random_state = 123)\n",
        "nb = GaussianNB()\n",
        "\n",
        "_models = [knn, svm, svm_rbf, svm_rbf_2, dt, nb]\n",
        "\n",
        "for classifier in _models:\n",
        "  classifier.fit(X = X_train_SMOTE, y = y_train_SMOTE)\n",
        "\n",
        "\n",
        "train_report, train_accuracies, train_recall, train_matrix = compare_models(_models, X_train_SMOTE, y_train_SMOTE)\n",
        "test_report, test_accuracies, test_recall, test_matrix = compare_models(_models, X_test, y_test)\n"
      ],
      "execution_count": 0,
      "outputs": []
    },
    {
      "cell_type": "code",
      "metadata": {
        "id": "NziMxWUdQhnT",
        "colab_type": "code",
        "colab": {}
      },
      "source": [
        "from sklearn.model_selection import cross_val_score\n",
        "\n",
        "def cross_validation(_models):\n",
        "  \n",
        "  mean_scores = []\n",
        "  for _model in _models:\n",
        "    scores = cross_val_score(_model, X , y, scoring = 'accuracy', cv = 10)\n",
        "    mean_scores.append(scores.mean())\n",
        "  \n",
        "  return mean_scores\n",
        "\n",
        "_models = [knn, svm, svm_rbf, svm_rbf_2, dt, nb]\n",
        "validations = cross_validation(_models)"
      ],
      "execution_count": 0,
      "outputs": []
    },
    {
      "cell_type": "code",
      "metadata": {
        "id": "-GJimwIoIjTR",
        "colab_type": "code",
        "outputId": "ef2f7df7-b76b-4cf4-e498-98745785c387",
        "colab": {
          "base_uri": "https://localhost:8080/",
          "height": 119
        }
      },
      "source": [
        "test_recall"
      ],
      "execution_count": 0,
      "outputs": [
        {
          "output_type": "execute_result",
          "data": {
            "text/plain": [
              "[0.47959183673469385,\n",
              " 0.5714285714285714,\n",
              " 0.12244897959183673,\n",
              " 0.09183673469387756,\n",
              " 0.20408163265306123,\n",
              " 0.6224489795918368]"
            ]
          },
          "metadata": {
            "tags": []
          },
          "execution_count": 29
        }
      ]
    },
    {
      "cell_type": "code",
      "metadata": {
        "id": "B0BIBYEDVOK1",
        "colab_type": "code",
        "outputId": "977bda98-aa90-49f2-ea8d-aaed815c2741",
        "colab": {
          "base_uri": "https://localhost:8080/",
          "height": 235
        }
      },
      "source": [
        "models = ['KNN', 'SVM_Linear', 'SVM_rbf', 'SVM_rbf2', 'DecisionTree','NaiveBayesian']\n",
        "\n",
        "pd.DataFrame(list(zip(models, train_accuracies, test_accuracies, train_recall, test_recall, validations)), columns = ['Model', 'Train Accuracy', 'Test Accuracy', 'Train Recall','Test Recall','Validation'])"
      ],
      "execution_count": 0,
      "outputs": [
        {
          "output_type": "execute_result",
          "data": {
            "text/html": [
              "<div>\n",
              "<style scoped>\n",
              "    .dataframe tbody tr th:only-of-type {\n",
              "        vertical-align: middle;\n",
              "    }\n",
              "\n",
              "    .dataframe tbody tr th {\n",
              "        vertical-align: top;\n",
              "    }\n",
              "\n",
              "    .dataframe thead th {\n",
              "        text-align: right;\n",
              "    }\n",
              "</style>\n",
              "<table border=\"1\" class=\"dataframe\">\n",
              "  <thead>\n",
              "    <tr style=\"text-align: right;\">\n",
              "      <th></th>\n",
              "      <th>Model</th>\n",
              "      <th>Train Accuracy</th>\n",
              "      <th>Test Accuracy</th>\n",
              "      <th>Train Recall</th>\n",
              "      <th>Test Recall</th>\n",
              "      <th>Validation</th>\n",
              "    </tr>\n",
              "  </thead>\n",
              "  <tbody>\n",
              "    <tr>\n",
              "      <th>0</th>\n",
              "      <td>KNN</td>\n",
              "      <td>0.827035</td>\n",
              "      <td>0.552980</td>\n",
              "      <td>0.970930</td>\n",
              "      <td>0.479592</td>\n",
              "      <td>0.837259</td>\n",
              "    </tr>\n",
              "    <tr>\n",
              "      <th>1</th>\n",
              "      <td>SVM_Linear</td>\n",
              "      <td>0.767684</td>\n",
              "      <td>0.682119</td>\n",
              "      <td>0.833333</td>\n",
              "      <td>0.571429</td>\n",
              "      <td>0.851842</td>\n",
              "    </tr>\n",
              "    <tr>\n",
              "      <th>2</th>\n",
              "      <td>SVM_rbf</td>\n",
              "      <td>0.959545</td>\n",
              "      <td>0.806291</td>\n",
              "      <td>0.941376</td>\n",
              "      <td>0.122449</td>\n",
              "      <td>0.851510</td>\n",
              "    </tr>\n",
              "    <tr>\n",
              "      <th>3</th>\n",
              "      <td>SVM_rbf2</td>\n",
              "      <td>0.968750</td>\n",
              "      <td>0.799669</td>\n",
              "      <td>0.957364</td>\n",
              "      <td>0.091837</td>\n",
              "      <td>0.848199</td>\n",
              "    </tr>\n",
              "    <tr>\n",
              "      <th>4</th>\n",
              "      <td>DecisionTree</td>\n",
              "      <td>0.977229</td>\n",
              "      <td>0.759934</td>\n",
              "      <td>0.958818</td>\n",
              "      <td>0.204082</td>\n",
              "      <td>0.782577</td>\n",
              "    </tr>\n",
              "    <tr>\n",
              "      <th>5</th>\n",
              "      <td>NaiveBayesian</td>\n",
              "      <td>0.722384</td>\n",
              "      <td>0.574503</td>\n",
              "      <td>0.903585</td>\n",
              "      <td>0.622449</td>\n",
              "      <td>0.516061</td>\n",
              "    </tr>\n",
              "  </tbody>\n",
              "</table>\n",
              "</div>"
            ],
            "text/plain": [
              "           Model  Train Accuracy  ...  Test Recall  Validation\n",
              "0            KNN        0.827035  ...     0.479592    0.837259\n",
              "1     SVM_Linear        0.767684  ...     0.571429    0.851842\n",
              "2        SVM_rbf        0.959545  ...     0.122449    0.851510\n",
              "3       SVM_rbf2        0.968750  ...     0.091837    0.848199\n",
              "4   DecisionTree        0.977229  ...     0.204082    0.782577\n",
              "5  NaiveBayesian        0.722384  ...     0.622449    0.516061\n",
              "\n",
              "[6 rows x 6 columns]"
            ]
          },
          "metadata": {
            "tags": []
          },
          "execution_count": 30
        }
      ]
    },
    {
      "cell_type": "code",
      "metadata": {
        "id": "tj31l52PKZ-J",
        "colab_type": "code",
        "outputId": "5889bb68-3ad4-4d43-9e54-12c2df1138f6",
        "colab": {
          "base_uri": "https://localhost:8080/",
          "height": 136
        }
      },
      "source": [
        "test_matrix"
      ],
      "execution_count": 0,
      "outputs": [
        {
          "output_type": "execute_result",
          "data": {
            "text/plain": [
              "[array([[287, 219],\n",
              "        [ 51,  47]]), array([[356, 150],\n",
              "        [ 42,  56]]), array([[475,  31],\n",
              "        [ 86,  12]]), array([[474,  32],\n",
              "        [ 89,   9]]), array([[439,  67],\n",
              "        [ 78,  20]]), array([[286, 220],\n",
              "        [ 37,  61]])]"
            ]
          },
          "metadata": {
            "tags": []
          },
          "execution_count": 31
        }
      ]
    },
    {
      "cell_type": "code",
      "metadata": {
        "id": "d0H8yNuToJ9t",
        "colab_type": "code",
        "outputId": "eab16c48-5de0-4360-a5af-a0490eada67a",
        "colab": {
          "base_uri": "https://localhost:8080/",
          "height": 34
        }
      },
      "source": [
        "dt.get_depth()"
      ],
      "execution_count": 0,
      "outputs": [
        {
          "output_type": "execute_result",
          "data": {
            "text/plain": [
              "104"
            ]
          },
          "metadata": {
            "tags": []
          },
          "execution_count": 13
        }
      ]
    },
    {
      "cell_type": "markdown",
      "metadata": {
        "id": "qiAFEqbAQVzR",
        "colab_type": "text"
      },
      "source": [
        "####4. Trace Training & Test Accuracy by changing Max_Depth"
      ]
    },
    {
      "cell_type": "code",
      "metadata": {
        "id": "aTrhRlBKpCzu",
        "colab_type": "code",
        "outputId": "e5149309-cbd0-4ee1-8731-6579d57fd368",
        "colab": {
          "base_uri": "https://localhost:8080/",
          "height": 235
        }
      },
      "source": [
        "# Decision Tree Figure max_depth\n",
        "\n",
        "def figure_min_sample_split(samples, max_depth):\n",
        "\n",
        "  train = []\n",
        "  test = []\n",
        "  \n",
        "  for depth in max_depth:\n",
        "    for sample in samples:\n",
        "      dt = DecisionTreeClassifier(random_state = 123, min_samples_split = sample)\n",
        "      dt.fit(X_train_SMOTE, y_train_SMOTE)\n",
        "      train_predicted = dt.predict(X = X_train_SMOTE)\n",
        "      train_accuracy = metrics.accuracy_score(y_train_SMOTE, train_predicted)\n",
        "      train_recall = metrics.recall_score(y_train_SMOTE, train_predicted)\n",
        "\n",
        "      test_predicted = dt.predict(X = X_test)\n",
        "      test_accuracy = metrics.accuracy_score(y_test, test_predicted)\n",
        "      test_recall = metrics.recall_score(y_test, test_predicted)\n",
        "\n",
        "      train.append(train_recall)\n",
        "      test.append(test_recall)\n",
        "\n",
        "  return(train, test)\n",
        "\n",
        "    \n",
        "#depths = [i for i in range(5, 101) if i%5 == 0]\n",
        "#(train_a, test_a) = figure_max_depth(depths)\n",
        "#pd.DataFrame(list(zip(depths, train_a, test_a)), columns = ['Max_Depth', 'Train Accuracy', 'Test Accuracy'])\n",
        "samples = [i for i in range(2,25,4)]\n",
        "max_depths = [i for i in range(5, 101, 5)]\n",
        "\n",
        "(train_a, test_a) = figure_min_sample_split(samples, max_depths)\n",
        "pd.DataFrame(list(zip(samples, train_a, test_a)), columns = ['samples', 'Train Recall', 'Test Recall'])"
      ],
      "execution_count": 0,
      "outputs": [
        {
          "output_type": "execute_result",
          "data": {
            "text/html": [
              "<div>\n",
              "<style scoped>\n",
              "    .dataframe tbody tr th:only-of-type {\n",
              "        vertical-align: middle;\n",
              "    }\n",
              "\n",
              "    .dataframe tbody tr th {\n",
              "        vertical-align: top;\n",
              "    }\n",
              "\n",
              "    .dataframe thead th {\n",
              "        text-align: right;\n",
              "    }\n",
              "</style>\n",
              "<table border=\"1\" class=\"dataframe\">\n",
              "  <thead>\n",
              "    <tr style=\"text-align: right;\">\n",
              "      <th></th>\n",
              "      <th>samples</th>\n",
              "      <th>Train Recall</th>\n",
              "      <th>Test Recall</th>\n",
              "    </tr>\n",
              "  </thead>\n",
              "  <tbody>\n",
              "    <tr>\n",
              "      <th>0</th>\n",
              "      <td>2</td>\n",
              "      <td>0.958818</td>\n",
              "      <td>0.204082</td>\n",
              "    </tr>\n",
              "    <tr>\n",
              "      <th>1</th>\n",
              "      <td>6</td>\n",
              "      <td>0.945252</td>\n",
              "      <td>0.193878</td>\n",
              "    </tr>\n",
              "    <tr>\n",
              "      <th>2</th>\n",
              "      <td>10</td>\n",
              "      <td>0.928779</td>\n",
              "      <td>0.234694</td>\n",
              "    </tr>\n",
              "    <tr>\n",
              "      <th>3</th>\n",
              "      <td>14</td>\n",
              "      <td>0.921027</td>\n",
              "      <td>0.244898</td>\n",
              "    </tr>\n",
              "    <tr>\n",
              "      <th>4</th>\n",
              "      <td>18</td>\n",
              "      <td>0.917636</td>\n",
              "      <td>0.234694</td>\n",
              "    </tr>\n",
              "    <tr>\n",
              "      <th>5</th>\n",
              "      <td>22</td>\n",
              "      <td>0.916182</td>\n",
              "      <td>0.234694</td>\n",
              "    </tr>\n",
              "  </tbody>\n",
              "</table>\n",
              "</div>"
            ],
            "text/plain": [
              "   samples  Train Recall  Test Recall\n",
              "0        2      0.958818     0.204082\n",
              "1        6      0.945252     0.193878\n",
              "2       10      0.928779     0.234694\n",
              "3       14      0.921027     0.244898\n",
              "4       18      0.917636     0.234694\n",
              "5       22      0.916182     0.234694"
            ]
          },
          "metadata": {
            "tags": []
          },
          "execution_count": 34
        }
      ]
    },
    {
      "cell_type": "code",
      "metadata": {
        "id": "O6ERXInoPO0M",
        "colab_type": "code",
        "outputId": "4b0bfd28-f1dd-4d40-f609-19654b9c26e9",
        "colab": {
          "base_uri": "https://localhost:8080/",
          "height": 1000
        }
      },
      "source": [
        "test_a"
      ],
      "execution_count": 0,
      "outputs": [
        {
          "output_type": "execute_result",
          "data": {
            "text/plain": [
              "[0.20408163265306123,\n",
              " 0.19387755102040816,\n",
              " 0.23469387755102042,\n",
              " 0.24489795918367346,\n",
              " 0.23469387755102042,\n",
              " 0.23469387755102042,\n",
              " 0.20408163265306123,\n",
              " 0.19387755102040816,\n",
              " 0.23469387755102042,\n",
              " 0.24489795918367346,\n",
              " 0.23469387755102042,\n",
              " 0.23469387755102042,\n",
              " 0.20408163265306123,\n",
              " 0.19387755102040816,\n",
              " 0.23469387755102042,\n",
              " 0.24489795918367346,\n",
              " 0.23469387755102042,\n",
              " 0.23469387755102042,\n",
              " 0.20408163265306123,\n",
              " 0.19387755102040816,\n",
              " 0.23469387755102042,\n",
              " 0.24489795918367346,\n",
              " 0.23469387755102042,\n",
              " 0.23469387755102042,\n",
              " 0.20408163265306123,\n",
              " 0.19387755102040816,\n",
              " 0.23469387755102042,\n",
              " 0.24489795918367346,\n",
              " 0.23469387755102042,\n",
              " 0.23469387755102042,\n",
              " 0.20408163265306123,\n",
              " 0.19387755102040816,\n",
              " 0.23469387755102042,\n",
              " 0.24489795918367346,\n",
              " 0.23469387755102042,\n",
              " 0.23469387755102042,\n",
              " 0.20408163265306123,\n",
              " 0.19387755102040816,\n",
              " 0.23469387755102042,\n",
              " 0.24489795918367346,\n",
              " 0.23469387755102042,\n",
              " 0.23469387755102042,\n",
              " 0.20408163265306123,\n",
              " 0.19387755102040816,\n",
              " 0.23469387755102042,\n",
              " 0.24489795918367346,\n",
              " 0.23469387755102042,\n",
              " 0.23469387755102042,\n",
              " 0.20408163265306123,\n",
              " 0.19387755102040816,\n",
              " 0.23469387755102042,\n",
              " 0.24489795918367346,\n",
              " 0.23469387755102042,\n",
              " 0.23469387755102042,\n",
              " 0.20408163265306123,\n",
              " 0.19387755102040816,\n",
              " 0.23469387755102042,\n",
              " 0.24489795918367346,\n",
              " 0.23469387755102042,\n",
              " 0.23469387755102042,\n",
              " 0.20408163265306123,\n",
              " 0.19387755102040816,\n",
              " 0.23469387755102042,\n",
              " 0.24489795918367346,\n",
              " 0.23469387755102042,\n",
              " 0.23469387755102042,\n",
              " 0.20408163265306123,\n",
              " 0.19387755102040816,\n",
              " 0.23469387755102042,\n",
              " 0.24489795918367346,\n",
              " 0.23469387755102042,\n",
              " 0.23469387755102042,\n",
              " 0.20408163265306123,\n",
              " 0.19387755102040816,\n",
              " 0.23469387755102042,\n",
              " 0.24489795918367346,\n",
              " 0.23469387755102042,\n",
              " 0.23469387755102042,\n",
              " 0.20408163265306123,\n",
              " 0.19387755102040816,\n",
              " 0.23469387755102042,\n",
              " 0.24489795918367346,\n",
              " 0.23469387755102042,\n",
              " 0.23469387755102042,\n",
              " 0.20408163265306123,\n",
              " 0.19387755102040816,\n",
              " 0.23469387755102042,\n",
              " 0.24489795918367346,\n",
              " 0.23469387755102042,\n",
              " 0.23469387755102042,\n",
              " 0.20408163265306123,\n",
              " 0.19387755102040816,\n",
              " 0.23469387755102042,\n",
              " 0.24489795918367346,\n",
              " 0.23469387755102042,\n",
              " 0.23469387755102042,\n",
              " 0.20408163265306123,\n",
              " 0.19387755102040816,\n",
              " 0.23469387755102042,\n",
              " 0.24489795918367346,\n",
              " 0.23469387755102042,\n",
              " 0.23469387755102042,\n",
              " 0.20408163265306123,\n",
              " 0.19387755102040816,\n",
              " 0.23469387755102042,\n",
              " 0.24489795918367346,\n",
              " 0.23469387755102042,\n",
              " 0.23469387755102042,\n",
              " 0.20408163265306123,\n",
              " 0.19387755102040816,\n",
              " 0.23469387755102042,\n",
              " 0.24489795918367346,\n",
              " 0.23469387755102042,\n",
              " 0.23469387755102042,\n",
              " 0.20408163265306123,\n",
              " 0.19387755102040816,\n",
              " 0.23469387755102042,\n",
              " 0.24489795918367346,\n",
              " 0.23469387755102042,\n",
              " 0.23469387755102042]"
            ]
          },
          "metadata": {
            "tags": []
          },
          "execution_count": 35
        }
      ]
    },
    {
      "cell_type": "markdown",
      "metadata": {
        "id": "6WsKektEgT9p",
        "colab_type": "text"
      },
      "source": [
        "\n",
        "#### Decision Tree Optimization"
      ]
    },
    {
      "cell_type": "code",
      "metadata": {
        "id": "ekATea9YgkoF",
        "colab_type": "code",
        "outputId": "faa23728-e522-4e0e-e4dc-4306c32dcd32",
        "colab": {
          "base_uri": "https://localhost:8080/",
          "height": 323
        }
      },
      "source": [
        "from sklearn.model_selection import GridSearchCV\n",
        "\n",
        "\n",
        "ssr = list(range(2, 25))\n",
        "param_grid = dict(min_samples_split=ssr)\n",
        "grid = GridSearchCV(dt, param_grid, cv=10, scoring='accuracy')\n",
        "grid.fit(X = X_train, y = y_train)"
      ],
      "execution_count": 0,
      "outputs": [
        {
          "output_type": "execute_result",
          "data": {
            "text/plain": [
              "GridSearchCV(cv=10, error_score='raise-deprecating',\n",
              "             estimator=DecisionTreeClassifier(class_weight=None,\n",
              "                                              criterion='gini', max_depth=None,\n",
              "                                              max_features=None,\n",
              "                                              max_leaf_nodes=None,\n",
              "                                              min_impurity_decrease=0.0,\n",
              "                                              min_impurity_split=None,\n",
              "                                              min_samples_leaf=1,\n",
              "                                              min_samples_split=2,\n",
              "                                              min_weight_fraction_leaf=0.0,\n",
              "                                              presort=False, random_state=123,\n",
              "                                              splitter='best'),\n",
              "             iid='warn', n_jobs=None,\n",
              "             param_grid={'min_samples_split': [2, 3, 4, 5, 6, 7, 8, 9, 10, 11,\n",
              "                                               12, 13, 14, 15, 16, 17, 18, 19,\n",
              "                                               20, 21, 22, 23, 24]},\n",
              "             pre_dispatch='2*n_jobs', refit=True, return_train_score=False,\n",
              "             scoring='accuracy', verbose=0)"
            ]
          },
          "metadata": {
            "tags": []
          },
          "execution_count": 24
        }
      ]
    },
    {
      "cell_type": "code",
      "metadata": {
        "id": "JqkNN9MWgu9G",
        "colab_type": "code",
        "outputId": "db8187ef-440b-4674-a51e-e82147b58379",
        "colab": {
          "base_uri": "https://localhost:8080/",
          "height": 51
        }
      },
      "source": [
        "print(grid.best_score_)\n",
        "print(grid.best_params_)"
      ],
      "execution_count": 0,
      "outputs": [
        {
          "output_type": "stream",
          "text": [
            "0.872568093385214\n",
            "{'min_samples_split': 4}\n"
          ],
          "name": "stdout"
        }
      ]
    },
    {
      "cell_type": "code",
      "metadata": {
        "id": "823--dELhJfm",
        "colab_type": "code",
        "colab": {}
      },
      "source": [
        ""
      ],
      "execution_count": 0,
      "outputs": []
    }
  ]
}