{
 "cells": [
  {
   "cell_type": "code",
   "execution_count": 8,
   "metadata": {},
   "outputs": [],
   "source": [
    "import tensorflow as tf\n",
    "from tensorflow.keras.preprocessing.text import Tokenizer\n",
    "from tensorflow.keras.layers import LSTM, Dense, Embedding\n",
    "from tensorflow.keras import Sequential\n",
    "from tensorflow.keras.preprocessing.sequence import pad_sequences\n",
    "from sklearn.model_selection import train_test_split\n",
    "from tensorflow.keras.utils import to_categorical\n",
    "from sklearn.preprocessing import LabelEncoder"
   ]
  },
  {
   "cell_type": "code",
   "execution_count": 9,
   "metadata": {},
   "outputs": [],
   "source": [
    "sentences = []\n",
    "targets = []\n",
    "\n",
    "#Raed the input file\n",
    "with open('data.csv', 'r') as inp:\n",
    "    next(inp)\n",
    "    for line in inp:\n",
    "        line = line.rstrip()\n",
    "        \n",
    "        seq, t = line.split(',')\n",
    "        \n",
    "        sentences.append(seq)\n",
    "        targets.append(t)\n",
    "enc = LabelEncoder()\n",
    "enc.fit(targets)\n",
    "targets = enc.transform(targets)\n",
    "#split the sequences into a training and a test set\n",
    "X_train, X_test, y_train, y_test = train_test_split(sentences, targets, test_size=0.33, random_state=42)\n",
    "\n",
    "# Learn a tokenizer so that every character is mapped to an id\n",
    "tk = Tokenizer(num_words=None, char_level=True, oov_token='UNK')\n",
    "tk.fit_on_texts(X_train)\n",
    "\n",
    "\n",
    "#Encode text to ids\n",
    "X_train = tk.texts_to_sequences(X_train)\n",
    "X_test = tk.texts_to_sequences(X_test)\n",
    "\n",
    "#padd sequences to have equal lengths\n",
    "\n",
    "max_seq_len = 40\n",
    "X_train = pad_sequences(X_train, maxlen=max_seq_len, padding='post')\n",
    "X_test = pad_sequences(X_test, maxlen=max_seq_len, padding='post')"
   ]
  },
  {
   "cell_type": "code",
   "execution_count": 10,
   "metadata": {},
   "outputs": [],
   "source": [
    "#Creating a keras Model\n",
    "model = Sequential([Embedding(len(tk.word_counts)+2, 10, input_length=max_seq_len),\n",
    "                    LSTM(40, return_sequences=True, dropout=.1),\n",
    "                    LSTM(10, dropout=.1),\n",
    "                    Dense(10, activation='relu'),\n",
    "                    Dense(4, activation='sigmoid')])\n",
    "                   \n",
    "model.compile(loss='sparse_categorical_crossentropy', optimizer='adam', metrics=['accuracy'])\n",
    "\n"
   ]
  },
  {
   "cell_type": "code",
   "execution_count": 11,
   "metadata": {
    "scrolled": false
   },
   "outputs": [
    {
     "name": "stdout",
     "output_type": "stream",
     "text": [
      "Train on 3350 samples, validate on 1650 samples\n",
      "Epoch 1/10\n",
      "3350/3350 [==============================] - 4s 1ms/sample - loss: 1.3609 - accuracy: 0.4672 - val_loss: 1.2564 - val_accuracy: 0.5006\n",
      "Epoch 2/10\n",
      "3350/3350 [==============================] - 1s 402us/sample - loss: 1.1457 - accuracy: 0.5063 - val_loss: 1.0353 - val_accuracy: 0.5006\n",
      "Epoch 3/10\n",
      "3350/3350 [==============================] - 1s 400us/sample - loss: 0.9561 - accuracy: 0.5060 - val_loss: 0.8746 - val_accuracy: 0.5006\n",
      "Epoch 4/10\n",
      "3350/3350 [==============================] - 1s 400us/sample - loss: 0.8272 - accuracy: 0.4854 - val_loss: 0.7844 - val_accuracy: 0.5073\n",
      "Epoch 5/10\n",
      "3350/3350 [==============================] - 1s 402us/sample - loss: 0.7640 - accuracy: 0.4830 - val_loss: 0.7441 - val_accuracy: 0.5073\n",
      "Epoch 6/10\n",
      "3350/3350 [==============================] - 2s 512us/sample - loss: 0.7349 - accuracy: 0.4830 - val_loss: 0.7247 - val_accuracy: 0.5073\n",
      "Epoch 7/10\n",
      "3350/3350 [==============================] - 1s 439us/sample - loss: 0.7205 - accuracy: 0.4830 - val_loss: 0.7146 - val_accuracy: 0.5073\n",
      "Epoch 8/10\n",
      "3350/3350 [==============================] - 1s 399us/sample - loss: 0.7124 - accuracy: 0.4872 - val_loss: 0.7087 - val_accuracy: 0.5006\n",
      "Epoch 9/10\n",
      "3350/3350 [==============================] - 1s 402us/sample - loss: 0.7075 - accuracy: 0.5063 - val_loss: 0.7050 - val_accuracy: 0.5006\n",
      "Epoch 10/10\n",
      "3350/3350 [==============================] - 1s 430us/sample - loss: 0.7043 - accuracy: 0.5063 - val_loss: 0.7024 - val_accuracy: 0.5006\n"
     ]
    }
   ],
   "source": [
    "#Training on the training set and validating on the test set\n",
    "history = model.fit(X_train, y_train, validation_data=(X_test, y_test), batch_size=100, shuffle=True, \n",
    "         epochs=10)"
   ]
  },
  {
   "cell_type": "code",
   "execution_count": 12,
   "metadata": {},
   "outputs": [
    {
     "name": "stdout",
     "output_type": "stream",
     "text": [
      "Requirement already satisfied: tensorflow in /anaconda3/lib/python3.7/site-packages (2.1.0)\n",
      "Requirement already satisfied: gast==0.2.2 in /anaconda3/lib/python3.7/site-packages (from tensorflow) (0.2.2)\n",
      "Requirement already satisfied: tensorflow-estimator<2.2.0,>=2.1.0rc0 in /anaconda3/lib/python3.7/site-packages (from tensorflow) (2.1.0)\n",
      "Requirement already satisfied: tensorboard<2.2.0,>=2.1.0 in /anaconda3/lib/python3.7/site-packages (from tensorflow) (2.1.1)\n",
      "Requirement already satisfied: protobuf>=3.8.0 in /anaconda3/lib/python3.7/site-packages (from tensorflow) (3.11.3)\n",
      "Requirement already satisfied: scipy==1.4.1; python_version >= \"3\" in /anaconda3/lib/python3.7/site-packages (from tensorflow) (1.4.1)\n",
      "Requirement already satisfied: termcolor>=1.1.0 in /anaconda3/lib/python3.7/site-packages (from tensorflow) (1.1.0)\n",
      "Requirement already satisfied: absl-py>=0.7.0 in /anaconda3/lib/python3.7/site-packages (from tensorflow) (0.9.0)\n",
      "Requirement already satisfied: numpy<2.0,>=1.16.0 in /anaconda3/lib/python3.7/site-packages (from tensorflow) (1.16.4)\n",
      "Requirement already satisfied: wheel>=0.26; python_version >= \"3\" in /anaconda3/lib/python3.7/site-packages (from tensorflow) (0.33.4)\n",
      "Requirement already satisfied: grpcio>=1.8.6 in /anaconda3/lib/python3.7/site-packages (from tensorflow) (1.27.2)\n",
      "Requirement already satisfied: google-pasta>=0.1.6 in /anaconda3/lib/python3.7/site-packages (from tensorflow) (0.1.8)\n",
      "Requirement already satisfied: astor>=0.6.0 in /anaconda3/lib/python3.7/site-packages (from tensorflow) (0.8.1)\n",
      "Requirement already satisfied: keras-preprocessing>=1.1.0 in /anaconda3/lib/python3.7/site-packages (from tensorflow) (1.1.0)\n",
      "Requirement already satisfied: keras-applications>=1.0.8 in /anaconda3/lib/python3.7/site-packages (from tensorflow) (1.0.8)\n",
      "Requirement already satisfied: wrapt>=1.11.1 in /anaconda3/lib/python3.7/site-packages (from tensorflow) (1.11.2)\n",
      "Requirement already satisfied: six>=1.12.0 in /anaconda3/lib/python3.7/site-packages (from tensorflow) (1.12.0)\n",
      "Requirement already satisfied: opt-einsum>=2.3.2 in /anaconda3/lib/python3.7/site-packages (from tensorflow) (3.2.0)\n",
      "Requirement already satisfied: werkzeug>=0.11.15 in /anaconda3/lib/python3.7/site-packages (from tensorboard<2.2.0,>=2.1.0->tensorflow) (0.15.4)\n",
      "Requirement already satisfied: setuptools>=41.0.0 in /anaconda3/lib/python3.7/site-packages (from tensorboard<2.2.0,>=2.1.0->tensorflow) (41.0.1)\n",
      "Requirement already satisfied: requests<3,>=2.21.0 in /anaconda3/lib/python3.7/site-packages (from tensorboard<2.2.0,>=2.1.0->tensorflow) (2.22.0)\n",
      "Requirement already satisfied: google-auth-oauthlib<0.5,>=0.4.1 in /anaconda3/lib/python3.7/site-packages (from tensorboard<2.2.0,>=2.1.0->tensorflow) (0.4.1)\n",
      "Requirement already satisfied: markdown>=2.6.8 in /anaconda3/lib/python3.7/site-packages (from tensorboard<2.2.0,>=2.1.0->tensorflow) (3.2.1)\n",
      "Requirement already satisfied: google-auth<2,>=1.6.3 in /anaconda3/lib/python3.7/site-packages (from tensorboard<2.2.0,>=2.1.0->tensorflow) (1.11.2)\n",
      "Requirement already satisfied: h5py in /anaconda3/lib/python3.7/site-packages (from keras-applications>=1.0.8->tensorflow) (2.9.0)\n",
      "Requirement already satisfied: idna<2.9,>=2.5 in /anaconda3/lib/python3.7/site-packages (from requests<3,>=2.21.0->tensorboard<2.2.0,>=2.1.0->tensorflow) (2.8)\n",
      "Requirement already satisfied: chardet<3.1.0,>=3.0.2 in /anaconda3/lib/python3.7/site-packages (from requests<3,>=2.21.0->tensorboard<2.2.0,>=2.1.0->tensorflow) (3.0.4)\n",
      "Requirement already satisfied: urllib3!=1.25.0,!=1.25.1,<1.26,>=1.21.1 in /anaconda3/lib/python3.7/site-packages (from requests<3,>=2.21.0->tensorboard<2.2.0,>=2.1.0->tensorflow) (1.24.2)\n",
      "Requirement already satisfied: certifi>=2017.4.17 in /anaconda3/lib/python3.7/site-packages (from requests<3,>=2.21.0->tensorboard<2.2.0,>=2.1.0->tensorflow) (2019.6.16)\n",
      "Requirement already satisfied: requests-oauthlib>=0.7.0 in /anaconda3/lib/python3.7/site-packages (from google-auth-oauthlib<0.5,>=0.4.1->tensorboard<2.2.0,>=2.1.0->tensorflow) (1.3.0)\n",
      "Requirement already satisfied: rsa<4.1,>=3.1.4 in /anaconda3/lib/python3.7/site-packages (from google-auth<2,>=1.6.3->tensorboard<2.2.0,>=2.1.0->tensorflow) (4.0)\n",
      "Requirement already satisfied: cachetools<5.0,>=2.0.0 in /anaconda3/lib/python3.7/site-packages (from google-auth<2,>=1.6.3->tensorboard<2.2.0,>=2.1.0->tensorflow) (4.0.0)\n",
      "Requirement already satisfied: pyasn1-modules>=0.2.1 in /anaconda3/lib/python3.7/site-packages (from google-auth<2,>=1.6.3->tensorboard<2.2.0,>=2.1.0->tensorflow) (0.2.8)\n",
      "Requirement already satisfied: oauthlib>=3.0.0 in /anaconda3/lib/python3.7/site-packages (from requests-oauthlib>=0.7.0->google-auth-oauthlib<0.5,>=0.4.1->tensorboard<2.2.0,>=2.1.0->tensorflow) (3.1.0)\n",
      "Requirement already satisfied: pyasn1>=0.1.3 in /anaconda3/lib/python3.7/site-packages (from rsa<4.1,>=3.1.4->google-auth<2,>=1.6.3->tensorboard<2.2.0,>=2.1.0->tensorflow) (0.4.8)\n",
      "Note: you may need to restart the kernel to use updated packages.\n"
     ]
    }
   ],
   "source": [
    "pip install tensorflow "
   ]
  }
 ],
 "metadata": {
  "kernelspec": {
   "display_name": "Python 3",
   "language": "python",
   "name": "python3"
  },
  "language_info": {
   "codemirror_mode": {
    "name": "ipython",
    "version": 3
   },
   "file_extension": ".py",
   "mimetype": "text/x-python",
   "name": "python",
   "nbconvert_exporter": "python",
   "pygments_lexer": "ipython3",
   "version": "3.7.3"
  }
 },
 "nbformat": 4,
 "nbformat_minor": 2
}
