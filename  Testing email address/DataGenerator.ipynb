{
 "cells": [
  {
   "cell_type": "code",
   "execution_count": 5,
   "metadata": {},
   "outputs": [],
   "source": [
    "import pandas as pd\n",
    "import numpy as np\n",
    "import string\n",
    "import random"
   ]
  },
  {
   "cell_type": "code",
   "execution_count": 6,
   "metadata": {},
   "outputs": [],
   "source": [
    "def gen_random_email():\n",
    "    domains = [ \"hotmail.com\", \"gmail.com\", \"aol.com\", \"mail.com\" , \"mail.kz\", \"yahoo.com\"]\n",
    "    letters = string.ascii_letters +'.'*5\n",
    "    \n",
    "    email = ''.join(np.random.choice(list(letters),10))+'@'+ np.random.choice(domains)\n",
    "    email = email.replace('.@', '@')\n",
    "    return email, \"Email\"\n",
    "\n",
    "def gen_random_float():\n",
    "    num = np.random.random()*np.random.randint(2000)\n",
    "    \n",
    "    decimal_points = np.random.randint(8)\n",
    "    num = int(num*10**(decimal_points))/10**decimal_points\n",
    "    \n",
    "    return str(num), 'Float'\n",
    "\n",
    "def gen_random_sentence():\n",
    "    nouns = [\"puppy\", \"car\", \"rabbit\", \"girl\", \"monkey\"]\n",
    "    verbs = [\"runs\", \"hits\", \"jumps\", \"drives\", \"barfs\"]\n",
    "    adv = [\"crazily\", \"dutifully\", \"foolishly\", \"merrily\", \"occasionally\"]\n",
    "    adj = [\"adorable.\", \"clueless.\", \"dirty.\", \"odd.\", \"stupid.\"]\n",
    "\n",
    "    random_entry = lambda x: x[random.randrange(len(x))]\n",
    "    \n",
    "    random_entry = \" \".join([random_entry(nouns), random_entry(verbs), \n",
    "                     random_entry(adv), random_entry(adj)])\n",
    "\n",
    "    return random_entry, 'String'\n",
    "\n",
    "def gen_random_int():\n",
    "    num = np.random.randint(1000000)\n",
    "    \n",
    "    return str(num), 'Int'\n",
    "    \n",
    "\n"
   ]
  },
  {
   "cell_type": "code",
   "execution_count": 7,
   "metadata": {},
   "outputs": [],
   "source": [
    "def gen_dataset(filename, size=5000):\n",
    "    randomizers = [gen_random_email, gen_random_float, gen_random_int, gen_random_sentence]\n",
    "    with open(filename, 'w') as file:\n",
    "        file.write(\"Text, Type\\n\")\n",
    "        for _ in range(size):\n",
    "            file.write(\",\".join(random.choice(randomizers)())+\"\\n\")\n",
    "            \n",
    "            \n",
    "    "
   ]
  },
  {
   "cell_type": "code",
   "execution_count": 4,
   "metadata": {},
   "outputs": [],
   "source": [
    "gen_dataset('data.csv')"
   ]
  },
  {
   "cell_type": "code",
   "execution_count": null,
   "metadata": {},
   "outputs": [],
   "source": []
  }
 ],
 "metadata": {
  "kernelspec": {
   "display_name": "Python 3",
   "language": "python",
   "name": "python3"
  },
  "language_info": {
   "codemirror_mode": {
    "name": "ipython",
    "version": 3
   },
   "file_extension": ".py",
   "mimetype": "text/x-python",
   "name": "python",
   "nbconvert_exporter": "python",
   "pygments_lexer": "ipython3",
   "version": "3.7.3"
  }
 },
 "nbformat": 4,
 "nbformat_minor": 2
}
